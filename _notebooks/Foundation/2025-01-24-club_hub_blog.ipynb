{
 "cells": [
  {
   "cell_type": "raw",
   "metadata": {
    "vscode": {
     "languageId": "raw"
    }
   },
   "source": [
    "---\n",
    "toc: true\n",
    "layout: post\n",
    "type: hacks\n",
    "courses: { compsci: {week: 14} }\n",
    "title: Club Hub - Ansh\n",
    "description: A comprehensive reflection of my progress thus far on the Club Hub initiative. \n",
    "---"
   ]
  },
  {
   "cell_type": "markdown",
   "metadata": {},
   "source": [
    "# What is Club Hub?\n",
    "\n",
    "## Problem\n",
    "\n",
    "Throughout high school, many students striving to attend decent colleges and also simply explore their own interests lack a way to actually find relevant opportunities. There are an infinite amount of opportunities to explore, hundereds from one's own school, but there is no streamlined way to locate any of these.\n",
    "\n",
    "## Our Solution\n",
    "\n",
    "Through Club Hub, we offer a way for students to explore extracurricular opportunities within their schools. They can explore and discover groups of like-minded students, see the thousands of clubs that exist in their school, and find opportunities that suit their needs specifically. We offer a way to streamline one of the most overlooked opportunities: clubs.\n",
    "\n",
    "# My feature\n",
    "\n",
    "My feature is the \"Discover\" page -- a place where students can take a brief quiz to assess their interests, and then match them to relevant clubs that exist in their school. For example, if I say that I'm interested in engineering and teamwork, I may be matched to the school's FRC robotics club.\n",
    "\n",
    "It does so by:\n",
    "- offering the \"interests quiz\" where users can input their interests\n",
    "- saving the users interests to a backend API endpoint for future use\n",
    "- matching the user to clubs with at least 2 overlapping interests\n",
    "\n",
    "## CPT alignment\n",
    "\n",
    "This solves a very specific and common problem: students can't find the clubs that are actually relevant to them. By making the process of scouring for a club that genuinely reflects one's interest far more efficient, we are innovating and exploring novel concepts that have yet to be implimented."
   ]
  },
  {
   "cell_type": "markdown",
   "metadata": {},
   "source": [
    "# Lists, Dictionaries\n",
    "\n",
    "## Lists\n",
    "\n",
    "Lists exist as rows of the database, filling in data for each parameter. This exists in my project in the form of interests, which are cached as JSON in the form of a list."
   ]
  },
  {
   "cell_type": "code",
   "execution_count": null,
   "metadata": {},
   "outputs": [],
   "source": [
    "## API (interest.py) Code\n",
    "\n",
    "data = request.get_json()\n",
    "interests = data['interests']\n",
    "interests = Interest.get_user_interests(current_user)\n",
    "return {\"interests\": interests}, 200\n",
    "\n",
    "\n",
    "## Model (interest.py) Code\n",
    "\n",
    "def get_user_interests(user_id):\n",
    "    return [interest.interest for interest in Interest.query.filter_by(user_id=user_id).all()]"
   ]
  },
  {
   "cell_type": "markdown",
   "metadata": {},
   "source": [
    "## Dictionaries\n",
    "\n",
    "Dictionaries exist as columns in my database, being the id, the user id, and the interest associated."
   ]
  },
  {
   "cell_type": "code",
   "execution_count": null,
   "metadata": {},
   "outputs": [],
   "source": [
    "def read(self):\n",
    "    data = {\n",
    "        \"id\": self.id,\n",
    "        \"user_id\": self.user_id,\n",
    "        \"interest\": self.interest\n",
    "    }\n",
    "    return data"
   ]
  },
  {
   "cell_type": "markdown",
   "metadata": {},
   "source": [
    "## Database\n",
    "\n",
    "Queries for my project are executed using SQLAlchemy (e.g., Interest.query.filter_by()), data can be seen in the schema tabble, with JSON representations on my flask endpoint"
   ]
  },
  {
   "cell_type": "code",
   "execution_count": null,
   "metadata": {},
   "outputs": [],
   "source": [
    "class Interest(db.Model):\n",
    "    __tablename__ = 'interests'\n",
    "\n",
    "    id = db.Column(db.Integer, primary_key=True)\n",
    "    user_id = db.Column(db.Integer, nullable=False)\n",
    "    interest = db.Column(db.String(255), nullable=False)"
   ]
  },
  {
   "cell_type": "markdown",
   "metadata": {},
   "source": [
    "# CRUD Functions\n",
    "\n",
    "These functions handle the functionality of algorithmic requests to my backend, being create, read, update, and delete; correlating to POST, GET, PUT, and DELETE requests. Methods in my \"class\" to work with columns are seen below. "
   ]
  },
  {
   "cell_type": "code",
   "execution_count": null,
   "metadata": {},
   "outputs": [],
   "source": [
    "class Interest(db.Model):\n",
    "    __tablename__ = 'interests'\n",
    "\n",
    "    id = db.Column(db.Integer, primary_key=True)\n",
    "    user_id = db.Column(db.Integer, nullable=False)\n",
    "    interest = db.Column(db.String(255), nullable=False)\n",
    "\n",
    "    def create(self):\n",
    "        db.session.add(self)\n",
    "        db.session.commit()\n",
    "\n",
    "    def read(self):\n",
    "        return {\n",
    "            \"id\": self.id,\n",
    "            \"user_id\": self.user_id,\n",
    "            \"interest\": self.interest\n",
    "        }\n",
    "\n",
    "    def update(self, data):\n",
    "        for key, value in data.items():\n",
    "            setattr(self, key, value)\n",
    "        db.session.commit()\n",
    "\n",
    "    def delete(self):\n",
    "        db.session.delete(self)\n",
    "        db.session.commit()"
   ]
  },
  {
   "cell_type": "markdown",
   "metadata": {},
   "source": [
    "# Algorithmic Code Requests\n",
    "\n",
    "When interacting with the frontend, data must be formatted as JSON in order to produce genuine GET requests. In order to execute this, backend data is returned using the jsonify function, seen below."
   ]
  },
  {
   "cell_type": "code",
   "execution_count": null,
   "metadata": {},
   "outputs": [],
   "source": [
    "# Define a route for the API endpoint \"/api/interests\" that only allows GET requests\n",
    "@app.route('/api/interests', methods=['GET'])\n",
    "def get_interests():\n",
    "    # Retrieve the current user's ID from the session (stored in Flask's global context `g`)\n",
    "    user_id = g.current_user['uid']\n",
    "\n",
    "    # Query the database to get the list of interests associated with the current user\n",
    "    interests = Interest.get_user_interests(user_id)\n",
    "\n",
    "    # Convert the list of interests into a JSON response and return it\n",
    "    return jsonify({\"interests\": interests})\n",
    "\n",
    "## Processes the data as JSON (jsonify)\n",
    "{\n",
    "    \"interests\": [\"Music\", \"Gaming\", \"Traveling\"]\n",
    "}"
   ]
  },
  {
   "cell_type": "markdown",
   "metadata": {},
   "source": [
    "## Sequencing and Selection\n",
    "\n",
    "In the following code sample, I employ sequencing and case selection in order to determine the flow of the code and order of events. this is part of my frontend, and exists to run fecth requests to my backend. \n",
    "\n",
    "selection: determine the case -- interests saved or not saved? how should the code proceed?\n",
    "\n",
    "sequencing: there exists a deliberate **order of execution**; I construct the URL, send a get request, determine if the response was successful, parse the JSON, and then there is code to update my UI (selection)"
   ]
  },
  {
   "cell_type": "code",
   "execution_count": null,
   "metadata": {
    "vscode": {
     "languageId": "javascript"
    }
   },
   "outputs": [],
   "source": [
    "// Javascript frontend for fetch (GET) requests\n",
    "\n",
    "async function fetchAndDisplayInterests() {\n",
    "        try {\n",
    "            const URL = `${pythonURI}/api/interests`;\n",
    "            const response = await fetch(URL, {\n",
    "                method: 'GET',\n",
    "                headers: { 'Authorization': getToken() },\n",
    "            });\n",
    "            if (!response.ok) throw new Error('Failed to fetch interests');\n",
    "            const data = await response.json();\n",
    "            const interestsElement = document.getElementById('selectedInterests');\n",
    "            if (data.interests.length > 0) {\n",
    "                interestsElement.innerText = `Saved Interests: ${data.interests.join(', ')}`;\n",
    "            } else {\n",
    "                interestsElement.innerText = 'No interests saved yet.';\n",
    "            }\n",
    "        }\n",
    "}"
   ]
  },
  {
   "cell_type": "markdown",
   "metadata": {},
   "source": [
    "## Iteration\n",
    "\n",
    "Iteration over these lists are handled in my backend, as seen below. \n",
    "\n",
    "Essentially I employed a \"replace\" algorithm, which iterates over my list and replaces each list item; kind of like a \"put\" but to overwrite completely."
   ]
  },
  {
   "cell_type": "code",
   "execution_count": null,
   "metadata": {},
   "outputs": [],
   "source": [
    "# function to build new interests with preexisting lists, by iterating over each item and replacing by id/index\n",
    "\n",
    "existing_interest = Interest.query.filter_by(user_id=user_id, interest=interest_name).first()\n",
    "    if existing_interest:\n",
    "        # Update the existing interest (if additional fields are added in the future)\n",
    "        for key, value in interest_data.items():\n",
    "            setattr(existing_interest, key, value)\n",
    "        db.session.commit()\n",
    "        logging.info(f\"Updated interest entry: {interest_name} for user_id: {user_id}\")\n",
    "\n",
    "\n",
    "# logic for handling fetch (get) requests from frontend, by iterating over my list \n",
    "\n",
    "def get_user_interests(user_id):\n",
    "    return [interest.interest for interest in Interest.query.filter_by(user_id=user_id).all()]"
   ]
  }
 ],
 "metadata": {
  "kernelspec": {
   "display_name": "Python 3 (ipykernel)",
   "language": "python",
   "name": "python3"
  },
  "language_info": {
   "codemirror_mode": {
    "name": "ipython",
    "version": 3
   },
   "file_extension": ".py",
   "mimetype": "text/x-python",
   "name": "python",
   "nbconvert_exporter": "python",
   "pygments_lexer": "ipython3",
   "version": "3.13.1"
  }
 },
 "nbformat": 4,
 "nbformat_minor": 4
}
