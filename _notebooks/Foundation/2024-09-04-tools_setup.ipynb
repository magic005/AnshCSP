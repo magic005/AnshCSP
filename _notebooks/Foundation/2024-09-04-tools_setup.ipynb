{
 "cells": [
  {
   "cell_type": "raw",
   "metadata": {
    "vscode": {
     "languageId": "raw"
    }
   },
   "source": [
    "---\n",
    "toc: true\n",
    "layout: post\n",
    "type: hacks\n",
    "courses: { compsci: {week: 14} }\n",
    "title: Tools Setup - Mihir\n",
    "description: Blog of How I got the Tools Setup to Work\n",
    "---"
   ]
  },
  {
   "cell_type": "markdown",
   "metadata": {},
   "source": [
    "## Remember Forever Quiz\n",
    "In this quiz, I removed the nighthawk directory from the home directory and then recreated it, launching my own blog again on localhost.\n",
    "\n",
    "## Step 1: Remove Nighthawk Directory\n",
    "To remove the directory, to get started with the quiz, you first have to run ``rm -rf nighthawk``.\n",
    "\n",
    "**![](https://lh7-rt.googleusercontent.com/docsz/AD_4nXcoPDt1d0EPpoCdXFsZYU3Z-zc0J-RDCcvr367meLF65XwPv3AfjYhmwvZ69sYuyAVU5cn2SCH0kUBQQBPe6CEJjWcTTy2zQ6PpuDFOAFnfbq8WDlNltGbXartkehcqWGIs0wBJDzm11pG7qPkZS85A6ler?key=NON7Zirbf-lbc7coQRPiBA)**\n",
    "\n",
    "Now, our nighthawk directory where our code originally was is deleted.\n",
    "\n",
    "## Step 2: Making a new directory\n",
    "Now, we need to make a new, fresh nighthawk directory to store our student and portfolio repositories. We do this by running the following commands:\n",
    "\n",
    "```\n",
    "mkdir nighthawk\n",
    "cd nighthawk\n",
    "```\n",
    "Then, once we're in the directory, we can clone our student and Mr. Mortensens portfolio repository.\n",
    "\n",
    "```\n",
    "git clone https://github.com/Hypernova101/MihirCSP.git\n",
    "git clone https://github.com/nighthawkcoders/portfolio_2025.git\n",
    "```\n",
    "\n",
    "Now, to access my code, I need to run the following command:\n",
    "``\n",
    "code MihirCSP\n",
    "``\n",
    "\n",
    "\n",
    "## Step 3: Opening Virtual Environment and Deploying\n",
    "\n",
    "To open the virtual environment, we run the command ``source venv/bin/activate``.\n",
    "\n",
    "**![](https://lh7-rt.googleusercontent.com/docsz/AD_4nXcVw9qjVKxjJoc0AHV5aK1w1F23-KBEB4C-QEji-UYZVpdBlLbbKEwiYFhTRbNPMdY8EYn2OcqkC7ErEMCPCpLiHtBwwTracNo42PR45-nhaUOoJKlgtfAFZJB6_KrT7p8rZqXC3VeJTUHBgyYg5DGmMjNd?key=NON7Zirbf-lbc7coQRPiBA)**\n",
    "\n",
    "Now, we can run the ``make`` command to open our blog on localhost. Here, live changes are reflected, and once we're happy, we can push it to GitHub.\n",
    "\n",
    "**![](https://lh7-rt.googleusercontent.com/docsz/AD_4nXcmg2ruYhQDxdW6WPb1X4PvZoi49EHLloFsSE0JVxbNFYbWhkipGeoXpVXhpmhbdXg5qf2aMzzhpaVDMXu0rAhfdgttyGf8Bb7FpH0tOzFqAjOEGPII4rK-BwWXWDh_VCNT65FdBRroAg22xSKVrJn6C4k?key=NON7Zirbf-lbc7coQRPiBA)**\n",
    "\n",
    "This is how localhost looks like on my student repository:\n",
    "**![](https://lh7-rt.googleusercontent.com/docsz/AD_4nXcdXvDEqK-fpNMC4VlHHKKaujroL_3egNCRNF3HW_EFAgr8imx9r33dgWKv3eIXnmLJf6nAa0tTSJzVY4TS5Lwheq8S4aq5rd1aJ4H-8ucctn_RHqPuMDL3bnX35yotr1i3wBniWMJCXg2lo2RUj_O41wFr?key=NON7Zirbf-lbc7coQRPiBA)**\n",
    "\n",
    "And this is how localhost looks like on the portfolio repository.\n",
    "**![](https://lh7-rt.googleusercontent.com/docsz/AD_4nXfZiYDAV1Q_2iw-uMeQnwfIptomHNVR3emkcYEmow8tUAI468wmpcwnstkQKaX6BrCxhu9_NRnBab95vcH0DXPKaAFVIF_nIIVIfduSiRzewqmNmo4bw6aMBayGsVGSXzXd_-iAK-pVLGFnX84Rhau3bhIu?key=NON7Zirbf-lbc7coQRPiBA)**\n",
    "\n",
    "Now, all we have to do is push our code to GitHub to save, and we're done!\n",
    "\n",
    "**![](https://lh7-rt.googleusercontent.com/docsz/AD_4nXfU2NsDQqtmKli0Z2oBmmE9YR0A_TfG1JfmMA-J-LUW4fjz7p8DcRT-BXTPpECpZskwqr4-cuPAJSIms1aV79zmMuD-uX0chzO_i-tr_1GcE1xLO9f71AuWzdBSQj4-rwHq_onZShYqEODfID8jIN_bnrtg?key=NON7Zirbf-lbc7coQRPiBA)**"
   ]
  },
  {
   "cell_type": "markdown",
   "metadata": {},
   "source": []
  }
 ],
 "metadata": {
  "kernelspec": {
   "display_name": "Python 3",
   "language": "python",
   "name": "python3"
  },
  "language_info": {
   "codemirror_mode": {
    "name": "ipython",
    "version": 3
   },
   "file_extension": ".py",
   "mimetype": "text/x-python",
   "name": "python",
   "nbconvert_exporter": "python",
   "pygments_lexer": "ipython3",
   "version": "3.10.12"
  }
 },
 "nbformat": 4,
 "nbformat_minor": 2
}
